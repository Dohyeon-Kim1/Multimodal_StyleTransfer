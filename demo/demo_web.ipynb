{
  "nbformat": 4,
  "nbformat_minor": 0,
  "metadata": {
    "colab": {
      "provenance": [],
      "machine_shape": "hm",
      "gpuType": "T4"
    },
    "kernelspec": {
      "name": "python3",
      "display_name": "Python 3"
    },
    "language_info": {
      "name": "python"
    },
    "accelerator": "GPU"
  },
  "cells": [
    {
      "cell_type": "markdown",
      "source": [
        "### **Enviroment Set-up**"
      ],
      "metadata": {
        "id": "60x78TjbbDIl"
      }
    },
    {
      "cell_type": "code",
      "source": [
        "## git clone repository\n",
        "!git clone -q https://github.com/Dohyeon-Kim1/Multimoal_StyleTransfer.git MST\n",
        "\n",
        "## set directory and install required packages\n",
        "%cd /content/MST\n",
        "!pip -q install -r requirements.txt\n",
        "!pip -q install pyngrok\n",
        "!pip -q install streamlit\n",
        "!pip -q install streamlit_image_coordinates\n",
        "\n",
        "## download pretrained models\n",
        "!wget -q -O \"models/SAM/segment_anything/model_zoo/sam_vit_h.pth\" https://dl.fbaipublicfiles.com/segment_anything/sam_vit_h_4b8939.pth\n",
        "!wget -q -O \"models/AdaIN/model_zoo/encoder.pth\" https://drive.google.com/u/0/uc?id=1EpkBA2K2eYILDSyPTt0fztz59UjAIpZU&export=download\n",
        "!wget -q -O \"models/AdaIN/model_zoo/decoder.pth\" https://drive.google.com/u/0/uc?id=1bMfhMMwPeXnYSQI6cDWElSZxOxc6aVyr&export=download"
      ],
      "metadata": {
        "id": "jt82eahLHze8"
      },
      "execution_count": null,
      "outputs": []
    },
    {
      "cell_type": "markdown",
      "source": [
        "### **Web using Streamlit and Ngrok**"
      ],
      "metadata": {
        "id": "UlHaX0VwZPrP"
      }
    },
    {
      "cell_type": "code",
      "source": [
        "from pyngrok import ngrok\n",
        "!ngrok config add-authtoken YOUR_AUTHROKEN"
      ],
      "metadata": {
        "id": "v-An0mkLkVWt"
      },
      "execution_count": null,
      "outputs": []
    },
    {
      "cell_type": "code",
      "source": [
        "!streamlit run app.py &>/dev/null&"
      ],
      "metadata": {
        "id": "VWF_sd-Ry2X8"
      },
      "execution_count": 3,
      "outputs": []
    },
    {
      "cell_type": "code",
      "source": [
        "url = ngrok.connect(addr='8501')\n",
        "print(url)"
      ],
      "metadata": {
        "id": "sizPa6mJOaF1"
      },
      "execution_count": null,
      "outputs": []
    }
  ]
}