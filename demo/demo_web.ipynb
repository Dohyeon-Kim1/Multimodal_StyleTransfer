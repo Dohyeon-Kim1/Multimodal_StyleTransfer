{
  "cells": [
    {
      "cell_type": "markdown",
      "metadata": {
        "id": "60x78TjbbDIl"
      },
      "source": [
        "### **Enviroment Set-up**"
      ]
    },
    {
      "cell_type": "code",
      "execution_count": null,
      "metadata": {
        "id": "jt82eahLHze8"
      },
      "outputs": [],
      "source": [
        "## git clone repository\n",
        "!git clone -q https://github.com/Dohyeon-Kim1/Multimodal_StyleTransfer.git MST\n",
        "\n",
        "## set directory and install required packages\n",
        "%cd /content/MST\n",
        "!pip -q install -r requirements.txt\n",
        "!pip -q install pyngrok\n",
        "!pip -q install streamlit\n",
        "!pip -q install streamlit_image_coordinates\n",
        "\n",
        "## download pretrained models\n",
        "!wget -q -O \"models/SAM/segment_anything/model_zoo/sam_vit_h.pth\" https://dl.fbaipublicfiles.com/segment_anything/sam_vit_h_4b8939.pth\n",
        "!wget -q -O \"models/AdaIN/model_zoo/encoder.pth\" https://drive.google.com/u/0/uc?id=1EpkBA2K2eYILDSyPTt0fztz59UjAIpZU&export=download\n",
        "!wget -q -O \"models/AdaIN/model_zoo/decoder.pth\" https://drive.google.com/u/0/uc?id=1bMfhMMwPeXnYSQI6cDWElSZxOxc6aVyr&export=download"
      ]
    },
    {
      "cell_type": "markdown",
      "metadata": {
        "id": "UlHaX0VwZPrP"
      },
      "source": [
        "### **Web using Streamlit and Ngrok**"
      ]
    },
    {
      "cell_type": "code",
      "execution_count": null,
      "metadata": {
        "id": "v-An0mkLkVWt"
      },
      "outputs": [],
      "source": [
        "from pyngrok import ngrok\n",
        "!ngrok config add-authtoken YOUR_AUTHROKEN"
      ]
    },
    {
      "cell_type": "code",
      "execution_count": 3,
      "metadata": {
        "id": "VWF_sd-Ry2X8"
      },
      "outputs": [],
      "source": [
        "!streamlit run app.py &>/dev/null&"
      ]
    },
    {
      "cell_type": "code",
      "execution_count": null,
      "metadata": {
        "id": "sizPa6mJOaF1"
      },
      "outputs": [],
      "source": [
        "url = ngrok.connect(addr='8501')\n",
        "print(url)"
      ]
    }
  ],
  "metadata": {
    "accelerator": "GPU",
    "colab": {
      "gpuType": "T4",
      "machine_shape": "hm",
      "provenance": []
    },
    "kernelspec": {
      "display_name": "Python 3",
      "name": "python3"
    },
    "language_info": {
      "name": "python"
    }
  },
  "nbformat": 4,
  "nbformat_minor": 0
}
